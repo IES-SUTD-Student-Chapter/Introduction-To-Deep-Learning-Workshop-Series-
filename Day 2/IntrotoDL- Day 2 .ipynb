{
  "nbformat": 4,
  "nbformat_minor": 0,
  "metadata": {
    "colab": {
      "name": "DL workshop.ipynb",
      "provenance": [],
      "collapsed_sections": []
    },
    "kernelspec": {
      "name": "python3",
      "display_name": "Python 3"
    },
    "accelerator": "GPU"
  },
  "cells": [
    {
      "cell_type": "markdown",
      "metadata": {
        "id": "CCsL1rT5_Uno",
        "colab_type": "text"
      },
      "source": [
        "# Welcome to Introduction to Deep Learning with Tensorflow Workshop\n",
        "![alt text](data:image/png;base64,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)\n",
        "<br/>\n",
        "In this Workshop, we will be learning about TensorFlow and how to create a deep learning model.\n",
        "\n",
        "### What is TensorFlow?\n",
        "TensorFlow is a software library developed by google to help in machine learning. It allows developers to create dataflow graphs—structures that describe how data moves through a graph, or a series of processing nodes.\n",
        "\n",
        "Tensor is a multi-dimensional arrays of number which represents the data. Tensors flow through between operations and generate and output hence the name TensorFlow."
      ]
    },
    {
      "cell_type": "markdown",
      "metadata": {
        "id": "V6cCuO9iMiAR",
        "colab_type": "text"
      },
      "source": [
        "## Libraries\n",
        "To start off, we will need to import tensorflow library. We also use the keras API\n",
        "\n",
        "In tensorflow, we have many available libraries and that we reduce the need of setting up the environment on our local machine to install tensorflow. "
      ]
    },
    {
      "cell_type": "code",
      "metadata": {
        "id": "NxEReUOg97uL",
        "colab_type": "code",
        "colab": {}
      },
      "source": [
        "import tensorflow as tf\n",
        "from tensorflow import keras"
      ],
      "execution_count": null,
      "outputs": []
    },
    {
      "cell_type": "markdown",
      "metadata": {
        "id": "s_FHoCQO_Rfe",
        "colab_type": "text"
      },
      "source": [
        "In Traditional programming, we use the data given and the rules defined by us to get the desired output.\n",
        "\n",
        "In Machine learning, we will make use of data and the output of the data to create the rules. We use these rules later to predict the output using the data given. "
      ]
    },
    {
      "cell_type": "markdown",
      "metadata": {
        "id": "8qtzmBVtAIAg",
        "colab_type": "text"
      },
      "source": [
        "![alt text](https://www.bouvet.no/bouvet-deler/6-tips-for-getting-started-with-machine-learning/_/attachment/inline/8469beef-45b3-494b-a68a-2f19948844de:7222f3d165f068511023e7a1e4b817621ae17995/Screen%20Shot%202018-09-20%20at%2009.16.16.png)"
      ]
    },
    {
      "cell_type": "markdown",
      "metadata": {
        "id": "95n2kHMOA5AL",
        "colab_type": "text"
      },
      "source": [
        "### 'Hello World' of Neural Network\n",
        "Below is a code to create a neural network which predicts y value for the given x value\n",
        "\n",
        "To get started, we first define a model"
      ]
    },
    {
      "cell_type": "code",
      "metadata": {
        "id": "eYQ6E2Zz_G9a",
        "colab_type": "code",
        "colab": {}
      },
      "source": [
        "model = keras.Sequential([keras.layers.Dense(units=1, input_shape=[1])])"
      ],
      "execution_count": null,
      "outputs": []
    },
    {
      "cell_type": "markdown",
      "metadata": {
        "id": "_C4DZm4HFrZe",
        "colab_type": "text"
      },
      "source": [
        "In the above line Sequential defines the simplest model which constitutes of linear stack of layers. In our example, we have only one layer (Dense layer)\n",
        "\n",
        "In the dense layer, we have units=1 which means there is only one neuron and input_shape = [1] which means it intakes only one value."
      ]
    },
    {
      "cell_type": "code",
      "metadata": {
        "id": "u13jzcTeFrD-",
        "colab_type": "code",
        "colab": {}
      },
      "source": [
        "model.compile(optimizer = 'sgd', loss = 'mean_squared_error')"
      ],
      "execution_count": null,
      "outputs": []
    },
    {
      "cell_type": "markdown",
      "metadata": {
        "id": "cYCRRUK4GnFo",
        "colab_type": "text"
      },
      "source": [
        "Compile defines loss function and optimizer function which is used while training the model"
      ]
    },
    {
      "cell_type": "code",
      "metadata": {
        "id": "Tb5KveOsGmWF",
        "colab_type": "code",
        "colab": {
          "base_uri": "https://localhost:8080/",
          "height": 1000
        },
        "outputId": "688be501-d934-40f0-8e8a-7b9e0c654c7d"
      },
      "source": [
        "import numpy as np\n",
        "x = np.array([-2,-1,0,1,2,3,4], dtype = 'float')\n",
        "y = np.array([-3,-1,1,3,5,7,9], dtype = 'float')\n",
        "\n",
        "model.fit(x, y, epochs = 75) # the model is trained over 75 epochs using x and y "
      ],
      "execution_count": null,
      "outputs": [
        {
          "output_type": "stream",
          "text": [
            "Epoch 1/75\n",
            "1/1 [==============================] - 0s 1ms/step - loss: 9.7052\n",
            "Epoch 2/75\n",
            "1/1 [==============================] - 0s 738us/step - loss: 7.8441\n",
            "Epoch 3/75\n",
            "1/1 [==============================] - 0s 768us/step - loss: 6.3505\n",
            "Epoch 4/75\n",
            "1/1 [==============================] - 0s 2ms/step - loss: 5.1514\n",
            "Epoch 5/75\n",
            "1/1 [==============================] - 0s 813us/step - loss: 4.1885\n",
            "Epoch 6/75\n",
            "1/1 [==============================] - 0s 669us/step - loss: 3.4148\n",
            "Epoch 7/75\n",
            "1/1 [==============================] - 0s 919us/step - loss: 2.7930\n",
            "Epoch 8/75\n",
            "1/1 [==============================] - 0s 672us/step - loss: 2.2929\n",
            "Epoch 9/75\n",
            "1/1 [==============================] - 0s 2ms/step - loss: 1.8904\n",
            "Epoch 10/75\n",
            "1/1 [==============================] - 0s 820us/step - loss: 1.5662\n",
            "Epoch 11/75\n",
            "1/1 [==============================] - 0s 2ms/step - loss: 1.3047\n",
            "Epoch 12/75\n",
            "1/1 [==============================] - 0s 692us/step - loss: 1.0937\n",
            "Epoch 13/75\n",
            "1/1 [==============================] - 0s 782us/step - loss: 0.9231\n",
            "Epoch 14/75\n",
            "1/1 [==============================] - 0s 1ms/step - loss: 0.7850\n",
            "Epoch 15/75\n",
            "1/1 [==============================] - 0s 892us/step - loss: 0.6729\n",
            "Epoch 16/75\n",
            "1/1 [==============================] - 0s 1ms/step - loss: 0.5817\n",
            "Epoch 17/75\n",
            "1/1 [==============================] - 0s 1ms/step - loss: 0.5074\n",
            "Epoch 18/75\n",
            "1/1 [==============================] - 0s 1ms/step - loss: 0.4465\n",
            "Epoch 19/75\n",
            "1/1 [==============================] - 0s 1ms/step - loss: 0.3965\n",
            "Epoch 20/75\n",
            "1/1 [==============================] - 0s 1ms/step - loss: 0.3553\n",
            "Epoch 21/75\n",
            "1/1 [==============================] - 0s 1ms/step - loss: 0.3211\n",
            "Epoch 22/75\n",
            "1/1 [==============================] - 0s 1ms/step - loss: 0.2926\n",
            "Epoch 23/75\n",
            "1/1 [==============================] - 0s 1ms/step - loss: 0.2687\n",
            "Epoch 24/75\n",
            "1/1 [==============================] - 0s 1ms/step - loss: 0.2485\n",
            "Epoch 25/75\n",
            "1/1 [==============================] - 0s 1ms/step - loss: 0.2313\n",
            "Epoch 26/75\n",
            "1/1 [==============================] - 0s 1ms/step - loss: 0.2166\n",
            "Epoch 27/75\n",
            "1/1 [==============================] - 0s 734us/step - loss: 0.2038\n",
            "Epoch 28/75\n",
            "1/1 [==============================] - 0s 1ms/step - loss: 0.1926\n",
            "Epoch 29/75\n",
            "1/1 [==============================] - 0s 1ms/step - loss: 0.1828\n",
            "Epoch 30/75\n",
            "1/1 [==============================] - 0s 2ms/step - loss: 0.1741\n",
            "Epoch 31/75\n",
            "1/1 [==============================] - 0s 764us/step - loss: 0.1662\n",
            "Epoch 32/75\n",
            "1/1 [==============================] - 0s 915us/step - loss: 0.1591\n",
            "Epoch 33/75\n",
            "1/1 [==============================] - 0s 1ms/step - loss: 0.1526\n",
            "Epoch 34/75\n",
            "1/1 [==============================] - 0s 2ms/step - loss: 0.1467\n",
            "Epoch 35/75\n",
            "1/1 [==============================] - 0s 3ms/step - loss: 0.1412\n",
            "Epoch 36/75\n",
            "1/1 [==============================] - 0s 2ms/step - loss: 0.1361\n",
            "Epoch 37/75\n",
            "1/1 [==============================] - 0s 1ms/step - loss: 0.1313\n",
            "Epoch 38/75\n",
            "1/1 [==============================] - 0s 1ms/step - loss: 0.1267\n",
            "Epoch 39/75\n",
            "1/1 [==============================] - 0s 1ms/step - loss: 0.1225\n",
            "Epoch 40/75\n",
            "1/1 [==============================] - 0s 2ms/step - loss: 0.1184\n",
            "Epoch 41/75\n",
            "1/1 [==============================] - 0s 1ms/step - loss: 0.1145\n",
            "Epoch 42/75\n",
            "1/1 [==============================] - 0s 1ms/step - loss: 0.1108\n",
            "Epoch 43/75\n",
            "1/1 [==============================] - 0s 2ms/step - loss: 0.1073\n",
            "Epoch 44/75\n",
            "1/1 [==============================] - 0s 1ms/step - loss: 0.1039\n",
            "Epoch 45/75\n",
            "1/1 [==============================] - 0s 2ms/step - loss: 0.1006\n",
            "Epoch 46/75\n",
            "1/1 [==============================] - 0s 1ms/step - loss: 0.0975\n",
            "Epoch 47/75\n",
            "1/1 [==============================] - 0s 1ms/step - loss: 0.0944\n",
            "Epoch 48/75\n",
            "1/1 [==============================] - 0s 2ms/step - loss: 0.0915\n",
            "Epoch 49/75\n",
            "1/1 [==============================] - 0s 1ms/step - loss: 0.0887\n",
            "Epoch 50/75\n",
            "1/1 [==============================] - 0s 1ms/step - loss: 0.0860\n",
            "Epoch 51/75\n",
            "1/1 [==============================] - 0s 1ms/step - loss: 0.0833\n",
            "Epoch 52/75\n",
            "1/1 [==============================] - 0s 2ms/step - loss: 0.0808\n",
            "Epoch 53/75\n",
            "1/1 [==============================] - 0s 1ms/step - loss: 0.0783\n",
            "Epoch 54/75\n",
            "1/1 [==============================] - 0s 1ms/step - loss: 0.0759\n",
            "Epoch 55/75\n",
            "1/1 [==============================] - 0s 2ms/step - loss: 0.0736\n",
            "Epoch 56/75\n",
            "1/1 [==============================] - 0s 1ms/step - loss: 0.0714\n",
            "Epoch 57/75\n",
            "1/1 [==============================] - 0s 1ms/step - loss: 0.0692\n",
            "Epoch 58/75\n",
            "1/1 [==============================] - 0s 1ms/step - loss: 0.0671\n",
            "Epoch 59/75\n",
            "1/1 [==============================] - 0s 1ms/step - loss: 0.0650\n",
            "Epoch 60/75\n",
            "1/1 [==============================] - 0s 1ms/step - loss: 0.0631\n",
            "Epoch 61/75\n",
            "1/1 [==============================] - 0s 1ms/step - loss: 0.0612\n",
            "Epoch 62/75\n",
            "1/1 [==============================] - 0s 1ms/step - loss: 0.0593\n",
            "Epoch 63/75\n",
            "1/1 [==============================] - 0s 986us/step - loss: 0.0575\n",
            "Epoch 64/75\n",
            "1/1 [==============================] - 0s 1ms/step - loss: 0.0558\n",
            "Epoch 65/75\n",
            "1/1 [==============================] - 0s 1ms/step - loss: 0.0541\n",
            "Epoch 66/75\n",
            "1/1 [==============================] - 0s 1ms/step - loss: 0.0524\n",
            "Epoch 67/75\n",
            "1/1 [==============================] - 0s 1ms/step - loss: 0.0508\n",
            "Epoch 68/75\n",
            "1/1 [==============================] - 0s 5ms/step - loss: 0.0493\n",
            "Epoch 69/75\n",
            "1/1 [==============================] - 0s 1ms/step - loss: 0.0478\n",
            "Epoch 70/75\n",
            "1/1 [==============================] - 0s 1ms/step - loss: 0.0463\n",
            "Epoch 71/75\n",
            "1/1 [==============================] - 0s 1ms/step - loss: 0.0449\n",
            "Epoch 72/75\n",
            "1/1 [==============================] - 0s 1ms/step - loss: 0.0436\n",
            "Epoch 73/75\n",
            "1/1 [==============================] - 0s 1ms/step - loss: 0.0423\n",
            "Epoch 74/75\n",
            "1/1 [==============================] - 0s 1ms/step - loss: 0.0410\n",
            "Epoch 75/75\n",
            "1/1 [==============================] - 0s 1ms/step - loss: 0.0397\n"
          ],
          "name": "stdout"
        },
        {
          "output_type": "execute_result",
          "data": {
            "text/plain": [
              "<tensorflow.python.keras.callbacks.History at 0x7fdc104babe0>"
            ]
          },
          "metadata": {
            "tags": []
          },
          "execution_count": 4
        }
      ]
    },
    {
      "cell_type": "markdown",
      "metadata": {
        "id": "5MuQ4L2GR0DZ",
        "colab_type": "text"
      },
      "source": [
        "x = [-2,-1,0,1,2,3,4] <br/>\n",
        "y = [-3,-1,1,3,5,7,9]\n",
        "\n",
        "As you can observe from the given data, y = 2x + 1. We have now used the data and trained a model using tensorflow. Lets see how accurate are the predictions "
      ]
    },
    {
      "cell_type": "code",
      "metadata": {
        "id": "IfqCrGxiRzfv",
        "colab_type": "code",
        "colab": {
          "base_uri": "https://localhost:8080/",
          "height": 34
        },
        "outputId": "9d8c433e-7ed7-4836-cb08-d00d7cf793c8"
      },
      "source": [
        "print(model.predict([5])) # y = 2 * 5 + 1 = 11\n"
      ],
      "execution_count": null,
      "outputs": [
        {
          "output_type": "stream",
          "text": [
            "[[11.037718]]\n"
          ],
          "name": "stdout"
        }
      ]
    },
    {
      "cell_type": "markdown",
      "metadata": {
        "id": "plROYAeSSqD8",
        "colab_type": "text"
      },
      "source": [
        "As you can see from the prediction, we got answer which is very close to the actual answer but its not the same. The reason for this is due to less data provided and the fact that neural networks deal in probability."
      ]
    },
    {
      "cell_type": "markdown",
      "metadata": {
        "id": "Yvr6meQuU1uD",
        "colab_type": "text"
      },
      "source": [
        "### Exercise 1 : Put a ring on it \n",
        "\n",
        "\n"
      ]
    },
    {
      "cell_type": "markdown",
      "metadata": {
        "id": "qpm4AzLFWxax",
        "colab_type": "text"
      },
      "source": [
        "You want to buy a ring for yourself. You enter a store and they tell you the costing method of the ring. It costs 500 dollars to make the ring and it costs an extra 100 dollars for adding one diamond to the ring. So it would cost 600 dollars for a ring with 1 diamond and 1100 dollars for a ring with 6 diamonds. Create a model which takes an input for number of diamonds and outputs the cost\n",
        "\n",
        "Hint:<br/>\n",
        "1) use a small scale value(have your output in terms of thousands of dollars)<br/>\n",
        "2) Bigger the dataset, better the prediction<br/>\n",
        "3) In this case, number of epochs will improve your prediction but it leads to overfitting (we will discuss this later in the workshop) "
      ]
    },
    {
      "cell_type": "code",
      "metadata": {
        "id": "TbbZEqMFmt-O",
        "colab_type": "code",
        "colab": {}
      },
      "source": [
        "xs= #YOUR CODE HERE\n",
        "ys= #YOUR CODE HERE\n",
        "model = #YOUR CODE HERE\n",
        "model.compile( #YOUR CODE HERE )\n",
        "model.fit( #YOUR CODE HERE )"
      ],
      "execution_count": null,
      "outputs": []
    },
    {
      "cell_type": "markdown",
      "metadata": {
        "id": "eo7JE9vcXs04",
        "colab_type": "text"
      },
      "source": [
        "After creating your model, check your answer with the code given below"
      ]
    },
    {
      "cell_type": "code",
      "metadata": {
        "id": "k2UMnX4TmyG3",
        "colab_type": "code",
        "colab": {}
      },
      "source": [
        "print(model.predict([0]))\n",
        "print(model.predict([5]))\n",
        "print(model.predict([10]))"
      ],
      "execution_count": null,
      "outputs": []
    },
    {
      "cell_type": "markdown",
      "metadata": {
        "id": "MTggVcGjYtAs",
        "colab_type": "text"
      },
      "source": [
        "## Computer Vision using Neural Networks\n",
        "In this part of the workshop, we will be working on the MNIST dataset which consists of images of digits 0 to 9."
      ]
    },
    {
      "cell_type": "code",
      "metadata": {
        "id": "gufk5FwOZa2i",
        "colab_type": "code",
        "colab": {
          "base_uri": "https://localhost:8080/",
          "height": 50
        },
        "outputId": "467a4414-b664-4fae-b311-6617b3a28af5"
      },
      "source": [
        "mnist = tf.keras.datasets.mnist\n",
        "(training_images, training_labels), (test_images, test_labels) = mnist.load_data()\n"
      ],
      "execution_count": null,
      "outputs": [
        {
          "output_type": "stream",
          "text": [
            "Downloading data from https://storage.googleapis.com/tensorflow/tf-keras-datasets/mnist.npz\n",
            "11493376/11490434 [==============================] - 0s 0us/step\n"
          ],
          "name": "stdout"
        }
      ]
    },
    {
      "cell_type": "code",
      "metadata": {
        "id": "Fhj4P-P9-BuP",
        "colab_type": "code",
        "colab": {
          "base_uri": "https://localhost:8080/",
          "height": 50
        },
        "outputId": "21668d9b-51b8-4965-ab29-4b7f5a8251e6"
      },
      "source": [
        "print(len(training_images))\n",
        "print(len(test_images))\n",
        "#60000\n",
        "#10000"
      ],
      "execution_count": null,
      "outputs": [
        {
          "output_type": "stream",
          "text": [
            "60000\n",
            "10000\n"
          ],
          "name": "stdout"
        }
      ]
    },
    {
      "cell_type": "code",
      "metadata": {
        "id": "pSkLwmi6vOVZ",
        "colab_type": "code",
        "colab": {
          "base_uri": "https://localhost:8080/",
          "height": 315
        },
        "outputId": "bdeed42c-a129-4a36-f213-3a05ad56c501"
      },
      "source": [
        "import matplotlib.pyplot as plt\n",
        "image_index = 5 # You may select anything up to 60,000\n",
        "print(training_labels[image_index]) # The label is 8\n",
        "print(training_images[image_index].shape) # The image is 28 x 28 pixels\n",
        "plt.imshow(training_images[image_index], cmap='Greys')"
      ],
      "execution_count": null,
      "outputs": [
        {
          "output_type": "stream",
          "text": [
            "2\n",
            "(28, 28)\n"
          ],
          "name": "stdout"
        },
        {
          "output_type": "execute_result",
          "data": {
            "text/plain": [
              "<matplotlib.image.AxesImage at 0x7fdc651147b8>"
            ]
          },
          "metadata": {
            "tags": []
          },
          "execution_count": 8
        },
        {
          "output_type": "display_data",
          "data": {
            "image/png": "[encoded data removed]",
            "text/plain": [
              "<Figure size 432x288 with 1 Axes>"
            ]
          },
          "metadata": {
            "tags": [],
            "needs_background": "light"
          }
        }
      ]
    },
    {
      "cell_type": "markdown",
      "metadata": {
        "id": "plTi6Eg-6KVF",
        "colab_type": "text"
      },
      "source": [
        "#### Pre-processing data\n",
        "Before we create our model, we need to normalize our image data and make sure all the images are of the same shape. If any of the images are in a different format, our model will give an error.\n",
        "\n",
        "We normalize our data by dividing all the pixel values by 255.0 . This is because the values for the pixels varies from 0-255. Normalizing the pixel value makes calculations easier for the model, therefore reducing the computation time."
      ]
    },
    {
      "cell_type": "code",
      "metadata": {
        "id": "y1ORQTSw530W",
        "colab_type": "code",
        "colab": {}
      },
      "source": [
        "#normalize the images\n",
        "training_images = training_images/ 255.0\n",
        "test_images = test_images/ 255.0\n",
        "\n",
        "#reshape the images\n",
        "training_images = training_images.reshape((training_images.shape[0], 28, 28, 1))\n",
        "test_images = test_images.reshape((test_images.shape[0], 28, 28, 1))"
      ],
      "execution_count": null,
      "outputs": []
    },
    {
      "cell_type": "code",
      "metadata": {
        "id": "tUZVKKXEunoB",
        "colab_type": "code",
        "colab": {}
      },
      "source": [
        "model = tf.keras.Sequential([tf.keras.layers.Flatten(),\n",
        "                            tf.keras.layers.Dense(128, activation = 'relu'),\n",
        "                            tf.keras.layers.Dense(10, activation = 'softmax')])"
      ],
      "execution_count": null,
      "outputs": []
    },
    {
      "cell_type": "markdown",
      "metadata": {
        "id": "NY1x54qXvORF",
        "colab_type": "text"
      },
      "source": [
        "While creating this model, we use a Flatten layer to take the matrice as an input and make it into an 1D list. This 1D list then goes through a neural network whose first layer has 128 nodes and second layer has 10 nodes.\n",
        "\n",
        "We have come across a new term called activation. It helps us define an activation function which is applied to the output of a neural network layer, which is then passed as the input to the next layer. There are several types of activation functions:\n",
        " - relu - if input x > 0 return x, else return 0\n",
        " - softmax - takes a set of values and picks the biggest value. eg - input [1,2,1,5,8,3,4,6,3] , output = [0,0,0,0,1,0,0,0,0]\n",
        " - sigmoid - returns 1/(1+exp(-x)) - used in binary classification\n",
        " - tanh - returns tan(x)\n",
        " - linear - returns m*x + c where m and c are weights changed while fitting the model\n",
        " - exponential - returns exp(x)\n",
        " - softplus - returns log(exp(x)+1)\n",
        " - softsign - returns x/(abs(x)+1)\n",
        "\n",
        " For this workshop, we will be using only relu, softmax and sigmoid.\n",
        "\n"
      ]
    },
    {
      "cell_type": "markdown",
      "metadata": {
        "id": "M4qB3codgk3v",
        "colab_type": "text"
      },
      "source": [
        "We will be using adam as the optimizer. There are different types of optimizers which can be beneficial in different scenarios. \n",
        "\n",
        "Adam is an adaptive learning rate optimization algorithm that’s been designed specifically for training deep neural networks. \n",
        "\n",
        "The learning rate of your optimizer changes over time"
      ]
    },
    {
      "cell_type": "code",
      "metadata": {
        "id": "kuf4Tk5jvNWj",
        "colab_type": "code",
        "colab": {}
      },
      "source": [
        "adam = keras.optimizers.Adam(learning_rate = 0.001, beta_1 = 0.9, beta_2 = 0.999, amsgrad = False)\n",
        "model.compile(optimizer = adam,\n",
        "              loss= 'sparse_categorical_crossentropy',\n",
        "              metrics = ['accuracy'])"
      ],
      "execution_count": null,
      "outputs": []
    },
    {
      "cell_type": "markdown",
      "metadata": {
        "id": "QqNJ5gyEgcDK",
        "colab_type": "text"
      },
      "source": [
        "The amount that the weights are updated during training is referred to as the step size or the “learning rate.” If the value is too high, it will lead to over-fitting and if its too low, it will take more epochs to train the model."
      ]
    },
    {
      "cell_type": "markdown",
      "metadata": {
        "id": "IUYATqx9gg6i",
        "colab_type": "text"
      },
      "source": [
        "In the statement, we are fitting the model using only are training images and training labels. We are going to run it through 3 epochs and see the results"
      ]
    },
    {
      "cell_type": "code",
      "metadata": {
        "id": "BUl8VQziy8i3",
        "colab_type": "code",
        "colab": {
          "base_uri": "https://localhost:8080/",
          "height": 857
        },
        "outputId": "07e36e60-aa50-4ff8-ef70-bf9c386205a5"
      },
      "source": [
        "history = model.fit(training_images, training_labels, epochs = 25)"
      ],
      "execution_count": null,
      "outputs": [
        {
          "output_type": "stream",
          "text": [
            "Epoch 1/25\n",
            "1875/1875 [==============================] - 3s 2ms/step - loss: 0.2635 - accuracy: 0.9248\n",
            "Epoch 2/25\n",
            "1875/1875 [==============================] - 3s 2ms/step - loss: 0.1178 - accuracy: 0.9649\n",
            "Epoch 3/25\n",
            "1875/1875 [==============================] - 3s 2ms/step - loss: 0.0805 - accuracy: 0.9756\n",
            "Epoch 4/25\n",
            "1875/1875 [==============================] - 3s 2ms/step - loss: 0.0605 - accuracy: 0.9818\n",
            "Epoch 5/25\n",
            "1875/1875 [==============================] - 3s 2ms/step - loss: 0.0465 - accuracy: 0.9860\n",
            "Epoch 6/25\n",
            "1875/1875 [==============================] - 3s 2ms/step - loss: 0.0377 - accuracy: 0.9886\n",
            "Epoch 7/25\n",
            "1875/1875 [==============================] - 3s 2ms/step - loss: 0.0291 - accuracy: 0.9911\n",
            "Epoch 8/25\n",
            "1875/1875 [==============================] - 3s 2ms/step - loss: 0.0234 - accuracy: 0.9927\n",
            "Epoch 9/25\n",
            "1875/1875 [==============================] - 3s 2ms/step - loss: 0.0189 - accuracy: 0.9940\n",
            "Epoch 10/25\n",
            "1875/1875 [==============================] - 3s 2ms/step - loss: 0.0148 - accuracy: 0.9955\n",
            "Epoch 11/25\n",
            "1875/1875 [==============================] - 3s 2ms/step - loss: 0.0138 - accuracy: 0.9958\n",
            "Epoch 12/25\n",
            "1875/1875 [==============================] - 3s 2ms/step - loss: 0.0114 - accuracy: 0.9963\n",
            "Epoch 13/25\n",
            "1875/1875 [==============================] - 3s 2ms/step - loss: 0.0099 - accuracy: 0.9972\n",
            "Epoch 14/25\n",
            "1875/1875 [==============================] - 3s 2ms/step - loss: 0.0087 - accuracy: 0.9973\n",
            "Epoch 15/25\n",
            "1875/1875 [==============================] - 3s 2ms/step - loss: 0.0065 - accuracy: 0.9981\n",
            "Epoch 16/25\n",
            "1875/1875 [==============================] - 3s 2ms/step - loss: 0.0073 - accuracy: 0.9976\n",
            "Epoch 17/25\n",
            "1875/1875 [==============================] - 3s 2ms/step - loss: 0.0059 - accuracy: 0.9982\n",
            "Epoch 18/25\n",
            "1875/1875 [==============================] - 3s 2ms/step - loss: 0.0067 - accuracy: 0.9980\n",
            "Epoch 19/25\n",
            "1875/1875 [==============================] - 3s 2ms/step - loss: 0.0062 - accuracy: 0.9982\n",
            "Epoch 20/25\n",
            "1875/1875 [==============================] - 3s 2ms/step - loss: 0.0059 - accuracy: 0.9981\n",
            "Epoch 21/25\n",
            "1875/1875 [==============================] - 3s 2ms/step - loss: 0.0050 - accuracy: 0.9984\n",
            "Epoch 22/25\n",
            "1875/1875 [==============================] - 3s 2ms/step - loss: 0.0037 - accuracy: 0.9989\n",
            "Epoch 23/25\n",
            "1875/1875 [==============================] - 3s 2ms/step - loss: 0.0051 - accuracy: 0.9985\n",
            "Epoch 24/25\n",
            "1875/1875 [==============================] - 3s 2ms/step - loss: 0.0033 - accuracy: 0.9991\n",
            "Epoch 25/25\n",
            "1875/1875 [==============================] - 3s 2ms/step - loss: 0.0059 - accuracy: 0.9981\n"
          ],
          "name": "stdout"
        }
      ]
    },
    {
      "cell_type": "markdown",
      "metadata": {
        "id": "wa4KX-ytsenS",
        "colab_type": "text"
      },
      "source": [
        "Let's make prediction using our test set to check if the predictions are correct. We can see that when we get the prediction for an image from a model, it returns a list of float numbers. These numbers signify the probability of the image being that specific category. To find the category, we find the index of the biggest number in the list.\n",
        "\n"
      ]
    },
    {
      "cell_type": "code",
      "metadata": {
        "id": "QRR0onlcm6eP",
        "colab_type": "code",
        "colab": {
          "base_uri": "https://localhost:8080/",
          "height": 84
        },
        "outputId": "c269b805-a639-49b8-fff2-aca840af07ec"
      },
      "source": [
        "import numpy as np\n",
        "image_no =384\n",
        "pred = model.predict(test_images)\n",
        "print(pred[image_no])\n",
        "print(np.argmax(pred[image_no]))\n",
        "print(test_labels[image_no])"
      ],
      "execution_count": null,
      "outputs": [
        {
          "output_type": "stream",
          "text": [
            "[1.5563911e-18 9.2812926e-22 4.9453096e-20 2.3670656e-25 1.0808653e-24\n",
            " 4.5372839e-16 1.0000000e+00 6.8160918e-27 9.1691444e-21 7.7248510e-20]\n",
            "6\n",
            "6\n"
          ],
          "name": "stdout"
        }
      ]
    },
    {
      "cell_type": "code",
      "metadata": {
        "id": "2busvT4r4TUh",
        "colab_type": "code",
        "colab": {
          "base_uri": "https://localhost:8080/",
          "height": 50
        },
        "outputId": "76f2d820-cf69-4b41-b1d7-ec55ce66d203"
      },
      "source": [
        "model.evaluate(test_images,test_labels)"
      ],
      "execution_count": null,
      "outputs": [
        {
          "output_type": "stream",
          "text": [
            "313/313 [==============================] - 1s 2ms/step - loss: 0.1298 - accuracy: 0.9756\n"
          ],
          "name": "stdout"
        },
        {
          "output_type": "execute_result",
          "data": {
            "text/plain": [
              "[0.12975753843784332, 0.975600004196167]"
            ]
          },
          "metadata": {
            "tags": []
          },
          "execution_count": 14
        }
      ]
    },
    {
      "cell_type": "markdown",
      "metadata": {
        "id": "sjCYMYCwwRmK",
        "colab_type": "text"
      },
      "source": [
        "### Model Evaluation\n",
        "\n",
        "![alt text](https://gblobscdn.gitbook.com/assets%2F-LvBP1svpACTB1R1x_U4%2F-LvNWUoWieQqaGmU_gl9%2F-LvNoby-llz4QzAK15nL%2Fimage.png?alt=media&token=41720ce9-bb66-4419-9bd8-640abf1fc415)"
      ]
    },
    {
      "cell_type": "markdown",
      "metadata": {
        "id": "Z88253UGWo9u",
        "colab_type": "text"
      },
      "source": [
        "**Optimum fitting**- Good fitting for a model. What we want our model to be."
      ]
    },
    {
      "cell_type": "markdown",
      "metadata": {
        "id": "3nxWjwvSJhlN",
        "colab_type": "text"
      },
      "source": [
        "**Underfitting**- Case where the model has not learned enough from the training data. This results in low generalizations and unreliable predicition.\n",
        "\n",
        "Reasons for underfitting of data:\n",
        "1.   Model is not able to capture the underlying trend of the data.\n",
        "2.   The features are not sufficient to train the model.\n",
        "3. and more....\n",
        "\n",
        "\n",
        "\n"
      ]
    },
    {
      "cell_type": "markdown",
      "metadata": {
        "id": "fnCAMaH0Fmo9",
        "colab_type": "text"
      },
      "source": [
        "**Overfitting**- Case where the overall loss is really small for the training data, but the generalization of the model is unreliable. Overfitting is like a human mugging up a concept instead of understanding it.\n",
        "\n",
        "Reasons for overfitting of data:\n",
        "\n",
        "\n",
        "1.   Noise in the data is used as a feature, this created misleading models leading to inaccurate prediction.\n",
        "2.   Some neurons have a very high weight which makes the whole model rely on only a few certain features and the other features are not used well.\n",
        "3.   The model is too complex"
      ]
    },
    {
      "cell_type": "markdown",
      "metadata": {
        "id": "DFkMrw6TV1Z0",
        "colab_type": "text"
      },
      "source": [
        "An example for overfitting is given below. In this example, we overfit the model by running too many epochs. \n",
        "\n",
        "This leads to the model memorizing the values for the given data and it doesnt perform well with new data\n"
      ]
    },
    {
      "cell_type": "code",
      "metadata": {
        "id": "B2k31HVa4lXI",
        "colab_type": "code",
        "colab": {
          "base_uri": "https://localhost:8080/",
          "height": 689
        },
        "outputId": "d82fc2d1-13e1-47d2-9410-0caac6736f8a"
      },
      "source": [
        "over_model = tf.keras.Sequential([tf.keras.layers.Flatten(),\n",
        "                            tf.keras.layers.Dense(128, activation = 'relu'),\n",
        "                            tf.keras.layers.Dense(10, activation = 'softmax')])\n",
        " \n",
        "adam = keras.optimizers.Adam(learning_rate = 0.001, beta_1 = 0.9, beta_2 = 0.999, amsgrad = False)\n",
        "over_model.compile(optimizer = adam,\n",
        "              loss= 'sparse_categorical_crossentropy',\n",
        "              metrics = ['accuracy'])\n",
        " \n",
        "train_acc = []\n",
        "train_loss = []\n",
        "test_acc = []\n",
        "test_loss = []\n",
        " \n",
        "for i in range(20):\n",
        "  history = over_model.fit(training_images, training_labels)\n",
        "  train_acc.append(history.history['accuracy'])\n",
        "  train_loss.append(history.history['loss'])\n",
        "  values = over_model.evaluate(test_images,test_labels)\n",
        "  test_acc.append(values[1])\n",
        "  test_loss.append(values[0])"
      ],
      "execution_count": null,
      "outputs": [
        {
          "output_type": "stream",
          "text": [
            "1875/1875 [==============================] - 3s 2ms/step - loss: 2.8296 - accuracy: 0.8648\n",
            "313/313 [==============================] - 0s 1ms/step - loss: 0.5291 - accuracy: 0.8826\n",
            "1875/1875 [==============================] - 3s 2ms/step - loss: 0.3822 - accuracy: 0.9102\n",
            "313/313 [==============================] - 0s 1ms/step - loss: 0.3672 - accuracy: 0.9092\n",
            "1875/1875 [==============================] - 3s 2ms/step - loss: 0.2916 - accuracy: 0.9277\n",
            "313/313 [==============================] - 0s 1ms/step - loss: 0.3204 - accuracy: 0.9231\n",
            "1875/1875 [==============================] - 3s 2ms/step - loss: 0.2543 - accuracy: 0.9354\n",
            "313/313 [==============================] - 0s 1ms/step - loss: 0.2952 - accuracy: 0.9361\n",
            "1875/1875 [==============================] - 3s 2ms/step - loss: 0.2318 - accuracy: 0.9426\n",
            "313/313 [==============================] - 0s 1ms/step - loss: 0.2370 - accuracy: 0.9391\n",
            "1875/1875 [==============================] - 3s 2ms/step - loss: 0.2180 - accuracy: 0.9462\n",
            "313/313 [==============================] - 0s 1ms/step - loss: 0.2365 - accuracy: 0.9447\n",
            "1875/1875 [==============================] - 4s 2ms/step - loss: 0.2050 - accuracy: 0.9482\n",
            "313/313 [==============================] - 0s 1ms/step - loss: 0.2620 - accuracy: 0.9435\n",
            "1875/1875 [==============================] - 4s 2ms/step - loss: 0.1929 - accuracy: 0.9531\n",
            "313/313 [==============================] - 0s 1ms/step - loss: 0.2573 - accuracy: 0.9480\n",
            "1875/1875 [==============================] - 3s 2ms/step - loss: 0.1833 - accuracy: 0.9548\n",
            "313/313 [==============================] - 0s 1ms/step - loss: 0.2909 - accuracy: 0.9446\n",
            "1875/1875 [==============================] - 4s 2ms/step - loss: 0.1817 - accuracy: 0.9563\n",
            "313/313 [==============================] - 0s 1ms/step - loss: 0.2726 - accuracy: 0.9448\n",
            "1875/1875 [==============================] - 3s 2ms/step - loss: 0.1733 - accuracy: 0.9577\n",
            "313/313 [==============================] - 0s 1ms/step - loss: 0.2649 - accuracy: 0.9496\n",
            "1875/1875 [==============================] - 3s 2ms/step - loss: 0.1797 - accuracy: 0.9579\n",
            "313/313 [==============================] - 0s 1ms/step - loss: 0.2843 - accuracy: 0.9499\n",
            "1875/1875 [==============================] - 4s 2ms/step - loss: 0.1644 - accuracy: 0.9606\n",
            "313/313 [==============================] - 0s 1ms/step - loss: 0.3003 - accuracy: 0.9494\n",
            "1875/1875 [==============================] - 3s 2ms/step - loss: 0.1715 - accuracy: 0.9591\n",
            "313/313 [==============================] - 0s 1ms/step - loss: 0.2927 - accuracy: 0.9484\n",
            "1875/1875 [==============================] - 3s 2ms/step - loss: 0.1678 - accuracy: 0.9603\n",
            "313/313 [==============================] - 0s 1ms/step - loss: 0.3105 - accuracy: 0.9449\n",
            "1875/1875 [==============================] - 3s 2ms/step - loss: 0.1677 - accuracy: 0.9610\n",
            "313/313 [==============================] - 0s 1ms/step - loss: 0.3116 - accuracy: 0.9488\n",
            "1875/1875 [==============================] - 3s 2ms/step - loss: 0.1564 - accuracy: 0.9635\n",
            "313/313 [==============================] - 0s 1ms/step - loss: 0.3084 - accuracy: 0.9501\n",
            "1875/1875 [==============================] - 3s 2ms/step - loss: 0.1583 - accuracy: 0.9627\n",
            "313/313 [==============================] - 0s 1ms/step - loss: 0.3185 - accuracy: 0.9504\n",
            "1875/1875 [==============================] - 3s 2ms/step - loss: 0.1563 - accuracy: 0.9625\n",
            "313/313 [==============================] - 0s 1ms/step - loss: 0.3772 - accuracy: 0.9513\n",
            "1875/1875 [==============================] - 3s 2ms/step - loss: 0.1578 - accuracy: 0.9636\n",
            "313/313 [==============================] - 0s 1ms/step - loss: 0.3555 - accuracy: 0.9464\n"
          ],
          "name": "stdout"
        }
      ]
    },
    {
      "cell_type": "code",
      "metadata": {
        "id": "mtSCKmzK0Vfg",
        "colab_type": "code",
        "colab": {
          "base_uri": "https://localhost:8080/",
          "height": 282
        },
        "outputId": "f8c42cf4-687b-45df-aa1d-58d0cb9898f5"
      },
      "source": [
        "acc = history.history['accuracy']\n",
        "loss = history.history['loss']\n",
        "print(len(train_acc))\n",
        "plt.plot(range(20),train_acc,color = 'red')\n",
        "plt.plot(range(20),train_loss,color = 'blue')\n",
        "plt.plot(range(20),test_acc,color = 'green')\n",
        "plt.plot(range(20),test_loss,color = 'pink')\n",
        "plt.gca().legend(('train_acc','train_loss','test_acc','test_loss'))\n",
        "plt.show()"
      ],
      "execution_count": null,
      "outputs": [
        {
          "output_type": "stream",
          "text": [
            "20\n"
          ],
          "name": "stdout"
        },
        {
          "output_type": "display_data",
          "data": {
            "image/png": "[encoded data removed]",
            "text/plain": [
              "<Figure size 432x288 with 1 Axes>"
            ]
          },
          "metadata": {
            "tags": [],
            "needs_background": "light"
          }
        }
      ]
    },
    {
      "cell_type": "markdown",
      "metadata": {
        "id": "nTSO1ZUYJCVG",
        "colab_type": "text"
      },
      "source": [
        "#### Preventing overfitting\n",
        "\n",
        "We are going to prevent overfitting using dropout layer.\n",
        "\n",
        "Dropout prevents overfitting. In overfitting, the model relys on only a few features. Dropout allows us to spread out the weights for all the neurons, making good use of all the features given to us. Dropout removes a few neurons from a specific layer during model fitting. The neurons are removed randomly. This allows the neurons to have a spread out weights."
      ]
    },
    {
      "cell_type": "markdown",
      "metadata": {
        "id": "7wPu86DYaFoF",
        "colab_type": "text"
      },
      "source": [
        "The code for dropout is given below"
      ]
    },
    {
      "cell_type": "code",
      "metadata": {
        "id": "lYMV0h5Hale9",
        "colab_type": "code",
        "colab": {}
      },
      "source": [
        "drop_model = tf.keras.Sequential([tf.keras.layers.Flatten(),\n",
        "                            tf.keras.layers.Dense(128, activation = 'relu'),\n",
        "                            tf.keras.layers.Dropout(0.25),\n",
        "                            tf.keras.layers.Dense(10, activation = 'softmax')])"
      ],
      "execution_count": null,
      "outputs": []
    },
    {
      "cell_type": "code",
      "metadata": {
        "id": "75qwqjEGcaUE",
        "colab_type": "code",
        "colab": {}
      },
      "source": [
        "adam = keras.optimizers.Adam(learning_rate = 0.001, beta_1 = 0.9, beta_2 = 0.999, amsgrad = False)\n",
        "drop_model.compile(optimizer = adam,\n",
        "              loss= 'sparse_categorical_crossentropy',\n",
        "              metrics = ['accuracy'])"
      ],
      "execution_count": null,
      "outputs": []
    },
    {
      "cell_type": "code",
      "metadata": {
        "id": "oWeKeMiGaXJI",
        "colab_type": "code",
        "colab": {
          "base_uri": "https://localhost:8080/",
          "height": 689
        },
        "outputId": "4636aebf-60dd-4968-96af-732a9fd5763e"
      },
      "source": [
        "train_acc = []\n",
        "train_loss = []\n",
        "test_acc = []\n",
        "test_loss = []\n",
        "\n",
        "for i in range(20):\n",
        "  history = drop_model.fit(training_images, training_labels)\n",
        "  train_acc.append(history.history['accuracy'])\n",
        "  train_loss.append(history.history['loss'])\n",
        "  values = drop_model.evaluate(test_images,test_labels)\n",
        "  test_acc.append(values[1])\n",
        "  test_loss.append(values[0])"
      ],
      "execution_count": null,
      "outputs": [
        {
          "output_type": "stream",
          "text": [
            "1875/1875 [==============================] - 3s 2ms/step - loss: 2.5433 - accuracy: 0.7340\n",
            "313/313 [==============================] - 1s 2ms/step - loss: 0.6023 - accuracy: 0.8554\n",
            "1875/1875 [==============================] - 3s 2ms/step - loss: 0.6614 - accuracy: 0.8239\n",
            "313/313 [==============================] - 1s 2ms/step - loss: 0.4005 - accuracy: 0.9044\n",
            "1875/1875 [==============================] - 3s 2ms/step - loss: 0.5369 - accuracy: 0.8534\n",
            "313/313 [==============================] - 1s 2ms/step - loss: 0.3172 - accuracy: 0.9269\n",
            "1875/1875 [==============================] - 3s 2ms/step - loss: 0.4720 - accuracy: 0.8761\n",
            "313/313 [==============================] - 1s 2ms/step - loss: 0.2926 - accuracy: 0.9292\n",
            "1875/1875 [==============================] - 3s 2ms/step - loss: 0.4443 - accuracy: 0.8827\n",
            "313/313 [==============================] - 1s 2ms/step - loss: 0.2924 - accuracy: 0.9266\n",
            "1875/1875 [==============================] - 3s 2ms/step - loss: 0.4142 - accuracy: 0.8908\n",
            "313/313 [==============================] - 1s 2ms/step - loss: 0.2806 - accuracy: 0.9373\n",
            "1875/1875 [==============================] - 3s 2ms/step - loss: 0.3968 - accuracy: 0.8945\n",
            "313/313 [==============================] - 1s 2ms/step - loss: 0.2775 - accuracy: 0.9413\n",
            "1875/1875 [==============================] - 3s 2ms/step - loss: 0.3777 - accuracy: 0.9007\n",
            "313/313 [==============================] - 1s 2ms/step - loss: 0.2594 - accuracy: 0.9415\n",
            "1875/1875 [==============================] - 3s 2ms/step - loss: 0.3777 - accuracy: 0.9012\n",
            "313/313 [==============================] - 1s 2ms/step - loss: 0.2780 - accuracy: 0.9418\n",
            "1875/1875 [==============================] - 3s 2ms/step - loss: 0.3623 - accuracy: 0.9065\n",
            "313/313 [==============================] - 1s 2ms/step - loss: 0.2997 - accuracy: 0.9393\n",
            "1875/1875 [==============================] - 3s 2ms/step - loss: 0.3639 - accuracy: 0.9080\n",
            "313/313 [==============================] - 1s 2ms/step - loss: 0.3260 - accuracy: 0.9263\n",
            "1875/1875 [==============================] - 3s 2ms/step - loss: 0.3605 - accuracy: 0.9107\n",
            "313/313 [==============================] - 1s 2ms/step - loss: 0.2733 - accuracy: 0.9417\n",
            "1875/1875 [==============================] - 3s 2ms/step - loss: 0.3446 - accuracy: 0.9117\n",
            "313/313 [==============================] - 1s 2ms/step - loss: 0.2914 - accuracy: 0.9477\n",
            "1875/1875 [==============================] - 3s 2ms/step - loss: 0.3462 - accuracy: 0.9133\n",
            "313/313 [==============================] - 1s 2ms/step - loss: 0.3477 - accuracy: 0.9375\n",
            "1875/1875 [==============================] - 3s 2ms/step - loss: 0.3369 - accuracy: 0.9164\n",
            "313/313 [==============================] - 1s 2ms/step - loss: 0.3082 - accuracy: 0.9446\n",
            "1875/1875 [==============================] - 3s 2ms/step - loss: 0.3427 - accuracy: 0.9136\n",
            "313/313 [==============================] - 1s 2ms/step - loss: 0.2817 - accuracy: 0.9469\n",
            "1875/1875 [==============================] - 3s 2ms/step - loss: 0.3338 - accuracy: 0.9156\n",
            "313/313 [==============================] - 1s 2ms/step - loss: 0.3186 - accuracy: 0.9392\n",
            "1875/1875 [==============================] - 3s 2ms/step - loss: 0.3377 - accuracy: 0.9160\n",
            "313/313 [==============================] - 1s 2ms/step - loss: 0.3371 - accuracy: 0.9447\n",
            "1875/1875 [==============================] - 3s 2ms/step - loss: 0.3345 - accuracy: 0.9186\n",
            "313/313 [==============================] - 1s 2ms/step - loss: 0.3183 - accuracy: 0.9451\n",
            "1875/1875 [==============================] - 3s 2ms/step - loss: 0.3310 - accuracy: 0.9184\n",
            "313/313 [==============================] - 1s 2ms/step - loss: 0.3238 - accuracy: 0.9483\n"
          ],
          "name": "stdout"
        }
      ]
    },
    {
      "cell_type": "code",
      "metadata": {
        "id": "ubttlaZtbikY",
        "colab_type": "code",
        "colab": {
          "base_uri": "https://localhost:8080/",
          "height": 282
        },
        "outputId": "d546afac-e284-4dc3-e25d-a8acad6d650e"
      },
      "source": [
        "acc = history.history['accuracy']\n",
        "loss = history.history['loss']\n",
        "print(len(train_acc))\n",
        "plt.plot(range(20),train_acc,color = 'red')\n",
        "plt.plot(range(20),train_loss,color = 'blue')\n",
        "plt.plot(range(20),test_acc,color = 'green')\n",
        "plt.plot(range(20),test_loss,color = 'pink')\n",
        "plt.gca().legend(('train_acc','train_loss','test_acc','test_loss'))\n",
        "plt.show()"
      ],
      "execution_count": null,
      "outputs": [
        {
          "output_type": "stream",
          "text": [
            "20\n"
          ],
          "name": "stdout"
        },
        {
          "output_type": "display_data",
          "data": {
            "image/png": "[encoded data removed]",
            "text/plain": [
              "<Figure size 432x288 with 1 Axes>"
            ]
          },
          "metadata": {
            "tags": [],
            "needs_background": "light"
          }
        }
      ]
    },
    {
      "cell_type": "markdown",
      "metadata": {
        "id": "7PGDlWC0wbhA",
        "colab_type": "text"
      },
      "source": [
        "## Convolutional Neural Networks\n",
        "In this part of the workshop, we will be learning about convolutional layer, pooling layer and how it plays a part in image classification. \n",
        "\n",
        "Convolutional layer helps us identify relation between the pixel and its surrounding pixels. \n",
        "\n",
        "![alt text](https://miro.medium.com/max/654/1*hy15RJHCqT4HzO2VUydjTw.png)\n",
        "<br/>\n",
        "In the example given above, the convolutional layer creates a 3 X 3 filter which is labeled as K. This filter is used on the original image to find the relation between the pixels by applying the filter for every set of of pixel. In this example, the filter is multiplied to the original image pixel and then the values are added to give a new 2D array. Convolutions can be performed multiple times and can have different dimensions to improve the models prediction.\n",
        "\n",
        "\n",
        "\n",
        "\n"
      ]
    },
    {
      "cell_type": "markdown",
      "metadata": {
        "id": "A-lFsNHTzB1j",
        "colab_type": "text"
      },
      "source": [
        "Pooling layer reduce the spatial size of the representation to reduce the amount of parameters and computation in the network. While using the pool layer, we need to make sure that we reduce the size to help in computation without losing important features which will help in classification. "
      ]
    },
    {
      "cell_type": "markdown",
      "metadata": {
        "id": "sLO-eDLLy-Nb",
        "colab_type": "text"
      },
      "source": [
        "![alt text](data:image/jpeg;base64,/9j/4AAQSkZJRgABAQAAAQABAAD/2wCEAAkGBxAQEBUQERISFhIWERYQFhcYFxoREhYVGRMXFhQVFRcYHCggGR0lHRgWITEhJikrLi4uGSAzODMsNyguLisBCgoKDg0OGxAQGi0dHyUtLS0tLS0tLS0tLS0tNS0tLS0tLS0tLS0tLS0tLS0tLS0tLS0tLS0tLS0tLS0tKy0tLf/AABEIAJkBSQMBIgACEQEDEQH/xAAbAAEBAAMBAQEAAAAAAAAAAAAABQMEBgIBB//EAEkQAAIBAwEEAgwLBgUFAQEAAAECAwAEERIFEyExBnMUIjIzQVFSU2FxstIVFiM0QpGSk6Gx0VR0gaK002Nys8PiQ4KDwcJiJP/EABkBAQADAQEAAAAAAAAAAAAAAAABAgMEBf/EACMRAQACAQMEAwEBAAAAAAAAAAABAhESEzEDITJRBBRBYSP/2gAMAwEAAhEDEQA/AP3GlKUCvhr7Xlxw4cDjnzoOb2V0nluBFMto/YszhEkVxLKoJIV5oVX5Ncjj2xK5GoDjjb+NFoiB7ie3iyZMAyqQRHI0bEHhnGOI+icjwZrn4dg3RlifsWGC5WeN57uGQRpMitmQmJQC5kXI0uMLqJ1HSM7nRzYE0MySSouFhvUzkMQZr7fIP4pgn6qC5fdILKDTvbmBA6bxNUiqGTh24yeK8Rx5cRWCDpLAWuN4yRxwSxRbxnAR95BFKhGeWd6FA45Prr8/nJ2bayW04t2lk2LBbGN5AjB445oyqhh8sjF+Aj1HVwI7YGq79Frotvgp7W7t7kIsm6kdF2Ylq+lvouraiAcA4xkZzQd5ZXsU6CWGRJIznDKQynBwRkeEEEH0ipSdKLZ7mO2hkilZt7r0SKxj3Y46gPSCPQQa89G9lvFDKHUxvNM8pG9adxqVUDM54a8KCQvAHx8Seb+LN5LDb2jRRxCCwuLHfq4bjJbiFJI1GGCnSGIODnA44zQddD0jsXWR0uoGSNdcjCRSqLkgOxzwXgePLga1NodL7KKBrhZo5UWWKFt2ythpXVVJ48BhtXpAJGa5Hbexpks55ZoNJj2e9uN5cGdWLNEWSNRwEXyY4sAeXAcc1Ns7FvLkzT7lI302SJFvAWk7GveyXJcDSARlUz6c4zQXLDpXayTPbtLEkqzmBEMi65O1DKwXgRnJwPDpNUdpbUt7ZQ08scYY6VLsF1HBJAzz4An1CuauNgztDOBGoeXatvegalzu0ntnYkjwhYmH8KodKtnSSmF4kdmjZ+2il3FwmpcZTV2jqcYKvw5HwVA9TdJU3rRxiN0EVnMsm9Cxut1cSQjSQCCQEyOPbFgOHOqEe27VpjbLcQmcZzGHUuCoBYac5yAQSPBmuPHRu+IBkEZfdbLVipVFzbbRkuJhhQo4RsvJQCc4A5VsfAN21u1gYoQpku2F0SGZROJ9EkSd0s2ZgGJwMa8E5xUjqNnbatbkssE8UhUZYI4cgEkA8DyyCM8uBrfrkOjWxZknilmhZDDbNBqa4M+SxjysKjgI/kwctg8F4DjXX0ClKUClKUClKUClKUClKUClKUClKUClKUClKUClKUClKUClKUCp+3NsQ2cO/nbTHvI4yfEZJFjB9QLZPoBqhXOdPdlQXVoEnQOgubY4JIGTcJGeRGe1dh/Gg6OpO1byVZVSNkAMZY5XWc6gB9IY51UjQKAo5AADw8B6TzqLtf5wvUt7YqJ4X6cRNsS8dm3PnI/uz79Ozbnzkf3Z9+sE7MFYoupgpKqTpDHHAFsHHrxUvovezTQu0+jeLczwnR3AEczIAueJGBzPE1TMunbr6Vbm/uRpOuI9uq8YjwyccO3rL2bc+cj+7Pv1qXnJetT2hWxTMm3X099m3PnI/uz79fHvrkAneR8s97Pv1Esb65a+lhlVFiWBJI1U62OZZE1u2BgnSO1HLxk1Xk5H1H8qZk26emaC6uHRWMkfbKrEbvhxAPl1l7IuPOJ93/zrBY96j6tPZFQ+k91dwLJOkyKFCJbwhA7XExz8nIWGe2OFAQjAyxPgEapefmXR9kXHnI/u/wDnWG3vbli4MkfavoHyZ5aVPl+mswrWs+6l67/bSmqTVLZ7IuPOR/d/86dkXHnE+7/51O23ftEgWJQ08hMcSniurBLO+OSIAWJ9AA4kV86M3jz2VtPIcvJbRSscBcs0asTgcBxNMyZlYsLmUy6HZWBRm4LoIIZR5R8qqlSLHv46p/bjqvWleF44KUpUpKUpQKUpQKUpQKUpQKUpQKUpQKUpQKUpQKUpQKUpQKUpQcx006RS2G6dVidJWNuFY6GWdhmKRmLY3I0trwCQO25AitzpAHFookKl9/aaioKqW7Kh1FVJJAz4Mn1mty82PbzPvJYw7bl7ftiWXdSY3i6CdPbYAJxkgYzitLb1usVmkaZ0pNaIuWZ2wLqEDLMSzH0kk0Fyoe1/nC9S3tirlQNuOwuEwpb5FvCBjt18dRPDTpeUMdaeytni3V1DFtc8s/LGDLI0hX+GcZrLvn80ftL+tN8/mj9pf1rN1vl5yXrU9oVsVoXkz4X5I98T6S+UPTWxvn80ftL+tDLGtiBcNcauLQrDpxwwru+rP/dj+FbMnI+o/lWLfP5o/aX9a8yTPg/JHkfpL4vXQbdj3qPq09kVIvdhTvdm7S5UEII41eESiEY7cxnWMFzzOMkADkKoWMz7qP5I97X6S+SPTWbfP5pvtL+tQ8tsCtaz7qXrv9tK+75/NN9pf1rWs5n1S/JHvvlL5tPTUD3tHY9vcENLGGZVZVbJBAbBYAqRwJVfqFfNgbKSztorZCSscapk82IGCxGTjJ44rPvn8032l/Wm+fzTfaX9aDbse/jqn9uOq9RNmOxnGUK/JPzIOe3j8Rq3WteGleClS9uXssZgSHd65p9zlwWVRuJZdWlSCe98sjnXO2nS24dY9QgV54LaeIAPJjfLOzR6dQ1kCAnJZBgnPc9tZLtqVx2zOlsk01rFphAniEpYEnRjegpwJBaQplOPEJLz0DVubS2/LFO6gRNHHJbxmMZNw++IGpeOBp4nGDkK3LHEOlpXGW3SqdzDH/8AzFrhIJEkXU8UImSZwsg1Av3nSrArrLclxx3Ng7VmuXnYYDC2j0LktDvBNdxmRf8A8Pu1OeZXFB09K4Cfpu8sU2iNQBbSXKdsyMYY4HWY5Ugqy3K7vgeAIPOvMm3L2J5Zd7G4hj2nMUYMqlILqMRpgNwbTkB/ADyPhD9BpXM9L5CRGkcswuHSQQRxvugZO1xcSsP+nF4Q2VOvGlmKCtefpATNcWs0qRRwxmRpkyHdfk8rGOOHXVh8ZI3kWMFsAOupXIztcx7LuXV3jbTI8O8YzTRR4GlXfVqL903FiV1AZOmtD4QuEYJHNp0zRQnWXmBHwm0DH5SQtlhgcWOBwoO9pXEW/S26kRWWGNd7ujHrK/Jh7mOErIqyl3IDk50oMoVOOFVNibdlluWgl3Q4TFNGWDCGZYnYOGZTxYalOhkY6cNgtQdHSlY530qzDwKT9QzQZKVBTaNwQDqh5Z7239yvvwhceVD9239yo1Q02rLtKhfCFx5UP3bf3K+Wu0bhwx1QjDsve28H/kqNUK2pNYzK9So/Zdx5cX3bf3adl3Hlxfdt/dpqhTVCxSpthdytKUcoRo1jSpQ51Y45Y5qlVolJUjpT83H7xa/1cNV6kdKfm4/eLX+rhoK9Q9r/ADhepb2xVyoe1/nC9S3tiotw06XlCXtq/wCxraW406t3Gzhc6NRA7VdWOGTgZ9NYdhbRkuFZ2FtpB0qYLjspSRnUGO7TSRw4cefg8ObbNu8kDpGsLucELMNUTYYMVYeDIBAODg4ODjFaeyLCUXM9zIiRb1IoxGra+96yZHIAGo69PDPBBx44GbqnOVG85L1qe0K2K17zkvWp7QrYqFnP7G6SG5lCpHHumUurLOrzqn0JJYMAoj47UhmPFcgZOL0nI+o/lXKbE6Oyw9iQ7uJI7RpG3qtl5lZHRRpCjTq1h3ye6QYzzHVycj6j+VTKtc47slj3qPq09kVI6QbYu7bjHbQyozpFHm4aOWSRyAFCCBgOOeOrGAScVXse9R9WnsitK7sXkvIJTjcwxTMB4d++hFbHoj3oz/8As1WOXmKY9PP6617Pupeu/wBtK2a1rPupeu/20ohqbc2q1vulSNXkmkMS65NxECEZyXk0sRwUgAKST9dZtibRF1Ak4Urq1DGdQyrlCVYd0pKkhvCCD4a0ukOzXmeBxFHPHGzl4JCAjalASQagVLIRwB8onOQKz9GrB7e2WKTSDrkYIpLJEjSMyQoSBlUUhRwHLgAMCp/Eq9j38dU/tx1XqRY9/HVP7cdV60rwvXhrX1zDEokmeNFDcGchQGIIGC3I4JH8TWibzZ7lIddoxkRN2mY2LpgtFoX6S4yRj04rJt3Z0lwsYjl3emTW3dDWu7ddOpGV04sGypBOnHImpFl0SaOBYTKCQbQltJBIt5Q55sTlhkcScZ8NWWUdn7Qs5pngh3TlFSZimhkDF3VQdJ7oFCePjFa/whs9J98JYXllmS3DBkcq+hgFB5rkIfXXro/sKS2fU8kbhbWGzTTHu20QmQqzHUckh+QwBg451p2HRaWEriZdKSRMqBX3ahBKraA0hMYKyABFIRSvAcTUDdh2ps10k0vaGAhJHcPCYXZ3ZRqweJyvMjj4CSDjPs7bNo6xsrxI0oxGpZFd1VmVdIB7YZzjHjqVbdEnj7HZJl120FrEmUOhmgjuImLKGzhluGwM9qVB48qxwdDGDIzTK3CESACWNCYp3lBSNZgo4twDBtJGePKpFbaV9DA2lrZimEV3CIIlE0ugKdRBfLcWVQeYJ5jNPsOLLHdplshjpGWyAG1cOOQBz8QqZtLZc0txHJrjMMelliZWI3gYkykhgGIGNIIwpBPE4xaoNa62fDLjexRvjgNaK+PVkcKSWELLpaKMrknBRSMk5JxjwnjWzSg14bKJEMaRxqh4lVUKpzzyAMGvr2cRyDGhB55UHPbauPDjx4+us9KDAtnECSI0BZg7EKAWYHIYnHEjx19jto1ZnVEDt3TBQGbHLUeZrNSgVhvO9v8A5G/I1mrDed7f/I35GggRdyPUPyrk9p9IZBPOqybuO2eKNiYGli7ZEkZ55B3CYcKNPFdJY8K6yLuR6h+VQ9pdHDK0wWYpDchRcR6AxfCCMmN8jdlkCqeDcBwweNZQ7rZx2XjXnZvJ+tf869V52byfrX/Oolj8nxhM6U7UeBoFV2RZHdXZIjczALGWUJEoJIzzbSccOWcjc6N3r3FpFNJp1umW09znJGcZOk8OK5Ok5Hgr5tTZbySxzxSiOaJZI1LJvYykmgurJqU80QghhjHhzis2x9nLbQiIMW7Z5GY4BZ5JGkkbA4DLM3AcqfjilQ2f84/8J9sVXqRs/wCcf+E+2Kr1pXhpXgqR0p+bj94tf6uGq9SOlPzcfvFr/Vw1ZKvUDbcoW4TOe8t4Cfpr4hV+p1x84HUn2xVLziuV6TiyP2Unp+y36U7KT0/Zb9Kq397HBG00raUUZJ4nw4AAHEkkgADiSQBWLZe1YrkNu9YZGCukkbwSKSMjUkihgCOIOMGufcn06NyUe8ukwvPvqfRbyh6K2Oyk9P2W/Sql/wAl62P2hWzTd/huShdlJ4z9lv0rzJdJg8+R+i3i9VbNl0ltZpREjvliwjYxyJFKUyXEUrKEkIAJ7UnIBI4A1Uk7k+o/lTcn0jcQ7HaEW6j7b/pr4D5I9FZvhCLy/wAD+lYrHvUfVr7IrHd7ShieOORwHlfdxrzZmwScDxADieQ4eOu/60e3nZbPwhF5f4H9K1rPaEWqXtv+r4j5tPRW1WtZ91L1p/00qfrR7Mtj4Qi8v8D+lPhCLy/wP6Vq7S2lHbhTIWy7aEVEaWR2wWIVEBY4AJPDgBWSxvEnjWWNtSMMg4IPPBBB4ggggg8QQQaj61fZlvbLuEecaTnET54EfTj8dXKibL7+Oqf246t1S1dM4a14a17fxQgGRtIJwOBP5CtT4w2vnP5X92qlKhZL+MNr5z+V/dp8YbXzn8r+7VSlBL+MNr5z+V/dp8YbXzn8r+7VSlBL+MNr5z+V/dp8YbXzn8r+7VSlBL+MNr5z+V/dp8YbXzn8r+7VSlBC2j0ts4IXmeQlUUuQEYtgc8ZAra6P7etr+ET2smuM8M6WTj4RhgDVCaJXUq6hlIwQQGUjxEHnXoDHAcuVB9pSlArDed7f/I35Gs1Ybzvb/wCRvZNBz0Ql0j5CTkPpReLrK9Yl8xJ9qL+5VeLuR6h+VRNs7eltnybfMAeONpDIEdmkZVAgi0ne4LDPbKeeAxrjjqWmXTrlkxL5iT7UX9ytazunXWDBLnet4Yv7ldFUVO7k61v/AFW/x/8AS2JY9e0zU7ObzE31xf3adnN5ib64v7ta219orbQtMwLYGFReLu57lF9JP1cSeArJs6630Mc2MbyNJMZzjUobGfDz512fXo5ct3Y85ec5R0xD9LQc9v4NDH8avVD2T84PU/8A2KuVlasVnENa8FSOlPzcfvFr/Vw1XqR0p+bj94tf6uGqrK9Trj5wOpPtiqNT7j5wOpPtis+r4StXlg2pdGGJpRE8unBKINTkahqKr9IgZbSOJxgcSKh9E1PZN26b9rdzC6yTK6StLpYSou8VWMaqI8cMAs4HhA6fFMVxxPZrMNa+5L1sftCtmte+5L1sftCtjFBxOxdqR3l3GzpNEkTSLawG2njUHQyGeaQxiNSU1hUzgBuJLEBe0k7k+o/lXuvEg7U+o/lUzOURCJY96j6tfZFS9u2imW2lWMF+y4gzhcvu1SUgMwGdILH0Zb01UsR8lH1a+yKz17mMw4Xytaz7qXrT/ppW1itWzHbS9af9NKlCbtxt1c21wyuYkE0TlEaUoZFTQ5VAWxlCuQOGoeCvXROF1tiXVl3lxcTqrAqypLcSSJqU8VOlgSDxGcVapiox3ylm2X38dU/tx1cqJszv46p/bjq3XN1fKW1OClKVmsUpSgUpSgUpSgUpSgUpSgUpSgVhvO9v/kb2TWasN4Pk3/yN+RoNeLuR6h+Vcx0p2XdXQlgEUDBtJt7jVoktWIAd8YLF1I1qUIzwB041G7FtGDSPlU5D6Q8VevhKDzqfaFcMRMTw27Nqoqd3J1rf+qofCUHnU+0KkJeR6pO3XjKxHHwcK6vh9rzn0y63i0du7He4ZZEmZGjjkVV0q6anXSX7YcGxlc+AM3jNbHR+0khtYYZW1OkSIx4DiFAwMcDjlnw4rZ7Mi8tfrp2ZF5a/XXo9s5c3dvbJ+cHqf/sVcqBsSVWnYqQQIuOOP06v1y9TyltTgqR0p+bj94tf6uGq9SOlPzcfvFr/AFcNUWV6k39uj3A1KDiE4+2KrVOuPnA6k+2Kz6vjK1eWL4Oh8gfjT4Oh8gfjWa5jZkZVdkYqQHUAspIwGAYEEjnxBFQOgkWi3lTLNpv7xdTHU5xdSDLMeZ9Ncn41Ub7Z8OF7Qd9Tx+UK2Pg6HyB+Nfb7kvWx+0K2ajI1fg6HzY/GvMmzocHtByPj8VcxsjZcJvI5LNO0gaUXN2ca7qQqyGAuAN9pc6mbuVKKo45C9jJ3J9R/KpnsiJc3ZWEW6TtB3tfH5IrN8HxeQPxr3Y96j6tfZFct00tIjHNcoImmgVHkZmO+gjT5Q9j+CORl1EcgxxnNe3M4hwx3dN2BF5A/GtezsIsy9oO++nyEqgrZGfGM1r2fdS9af9NKthB2BF5A/GnYEXkD8ak9LL/QqQfKqsobeSIkjlIlA1KpjUkO2QoPDALNnIGffQWZX2ZaFc8LWJTlSvFYwDgEDIyOfI+CoiYzhOOy/sW3RLjtVAzE+ftpXQVD2X38dU/tx1crl6nlLanBSlKosUpSgUpSgUpSgUpSgUpSgUpSgUpSgUpSgUpSgUpSgUpSgVI6U/Nx+8Wv9XDVesVxbpIulwCupWx6VYOp/gwB/hQZanXHzgdSfbFUa1Liy1uHDupC6OGkgjOfpKapeM1xCYnEvlYra1SMERqFDO0hxwy7sWdj6SST/GsnYLeek+qP3Kdgt56T6o/crn2bNNcNe+5L1sftCtmscuzS2MzScGDco+YOR9CvfYLeek+qP3KbNjXCVs/o1ZW7K0NvGhXOnTkYyCDgZx4T9dVJO5PqP5V97Bbz0n1R+5Xw2DHhvpPqj9yp2rzyjVCJY96j6tfZFYLvZFtK4kkhjdxpGoqCcK2pAfHg8RnkeVWYthBVCiabAAUcI+QGPN16+Bf8aX6o/cr092rl0S0a1rPupetP+mlV/gX/ABpfqj9yvEewQpYiabtm1HhHzwBw+T9ApvVNEtQ1jtoEjRY0UKiKEVRwCqBgAegCqXwL/jS/VH7lPgX/ABpfqj9ym7U0SwbL7+Oqf246uVo2WzRG+veOx0le20gAEgnuVHiFb1YXnNsw1rGIKUpVUlKUoFKUoFKUoFKUoFKUoFKUoFKUoFKUoFKUoFKUoFKUoFKUoFKVpXmyLaZtctvDI2NOp41dsccDLDOOJ+ug3aVL+Llh+x2v3Mfu0+Llh+x2v3Mfu0FSlS/i5Yfsdr9zH7tPi5Yfsdr9zH7tBUpUv4uWH7Ha/cx+7T4uWH7Ha/cx+7QVKVL+Llh+x2v3Mfu0+Llh+x2v3Mfu0FSlS/i5Yfsdr9zH7tPi5Yfsdr9zH7tBUpUQ7H2aJDF2NZ6wm9K7qMEJkjV3PLIIzXq12Js2VFkjtbRkdQ6sIYyrKwyrA6eII40G9s7aUFym8gljlTlqRg4z4iQeB9FbdRuj3RWx2eMWlvHGSMFgNUjDOcNI2WIz4M1ZoFKUoFKUoFKUoFKUoFKUoFKUoFKUoFKUoFKUoFKUoFKUoFKUoFKUoFKUoFKUoFKUoFKUoFKUoFKUoOL6e229mtooZFW4m3lmy5O8NnMubl1A4jTu0YMeGQBnLCuyijCqFUAKAAAOAAAwAK8N3X/afzFZaBSlKBSlKBSlKBSlKBSlKBSlKBSlKBSlKBSlKBSlKBSlKBSlKBSlKD//2Q==)"
      ]
    },
    {
      "cell_type": "markdown",
      "metadata": {
        "id": "QXGgtNCx0EDx",
        "colab_type": "text"
      },
      "source": [
        "In the example given above, max pooling with 2 x 2 filter is used to find the largest number in 2x2 filter and create a smaller 2D array for computation"
      ]
    },
    {
      "cell_type": "markdown",
      "metadata": {
        "id": "-E0zLx07ynBp",
        "colab_type": "text"
      },
      "source": [
        "For computer vision, we are going to use couple of convolutional and pooling layers to compute the data and then flatten this data into a 1D array. After flattening it, we use dense layer to compute the data and find the image classification. \n",
        "\n",
        "![alt text](data:image/jpeg;base64,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)"
      ]
    },
    {
      "cell_type": "markdown",
      "metadata": {
        "id": "seGl8E5mNaC-",
        "colab_type": "text"
      },
      "source": [
        "### Creating convolutional and pooling layers\n",
        "\n",
        "In the code given below, we have created one convolutional layer and one max pooling layer.\n",
        "\n",
        "In the convolutional layer, we have created 64 filter of the size 3x3 which are used to compute the images (which are 2D lists). We have to specify the input shape for the first later which is 28 x 28 with our dataset. There is a third entry in the input shape which signifies the total number of bytes for the image. As our image is black and white, we use only one byte but for image whereas for coloured images, we use 3 bytes therefore the entry should be changed to 3 if we are using a dataset with colored images\n",
        "\n",
        "In the max pooling layer, we are just providing the size of the size of the filter."
      ]
    },
    {
      "cell_type": "code",
      "metadata": {
        "id": "hUeDOpBnsc_N",
        "colab_type": "code",
        "colab": {}
      },
      "source": [
        "model = tf.keras.Sequential([tf.keras.layers.Conv2D(64, (3, 3), activation = 'relu', input_shape = (28,28,1)),\n",
        "                            tf.keras.layers.MaxPooling2D(2,2),\n",
        "                            tf.keras.layers.Flatten(),\n",
        "                            tf.keras.layers.Dense(128, activation = 'relu'),\n",
        "                            tf.keras.layers.Dense(10, activation = 'softmax')])"
      ],
      "execution_count": null,
      "outputs": []
    },
    {
      "cell_type": "markdown",
      "metadata": {
        "id": "EXBMy6X6QL3h",
        "colab_type": "text"
      },
      "source": [
        "You may have observed that we have used a flatten layer in the middle of the model. This is because when the image is sent to our model, it is firsted computed through convolutional and max pooling layers which are 2D layers. After being computed in these layers, we flatten the data into a 1D list which is then computed through the dense layers and an output is generated."
      ]
    },
    {
      "cell_type": "code",
      "metadata": {
        "id": "pBTJtMTPOgQC",
        "colab_type": "code",
        "colab": {
          "base_uri": "https://localhost:8080/",
          "height": 319
        },
        "outputId": "2695e0f2-f5df-4b5b-c033-abe27ee60d42"
      },
      "source": [
        "adam = keras.optimizers.Adam(learning_rate = 0.001, beta_1 = 0.9, beta_2 = 0.999, amsgrad = False)\n",
        "model.compile(optimizer = adam,\n",
        "              loss= 'sparse_categorical_crossentropy',\n",
        "              metrics = ['accuracy'])\n",
        "model.summary()"
      ],
      "execution_count": null,
      "outputs": [
        {
          "output_type": "stream",
          "text": [
            "Model: \"sequential_2\"\n",
            "_________________________________________________________________\n",
            "Layer (type)                 Output Shape              Param #   \n",
            "=================================================================\n",
            "conv2d (Conv2D)              (None, 26, 26, 64)        640       \n",
            "_________________________________________________________________\n",
            "max_pooling2d (MaxPooling2D) (None, 13, 13, 64)        0         \n",
            "_________________________________________________________________\n",
            "flatten_1 (Flatten)          (None, 10816)             0         \n",
            "_________________________________________________________________\n",
            "dense_3 (Dense)              (None, 128)               1384576   \n",
            "_________________________________________________________________\n",
            "dense_4 (Dense)              (None, 10)                1290      \n",
            "=================================================================\n",
            "Total params: 1,386,506\n",
            "Trainable params: 1,386,506\n",
            "Non-trainable params: 0\n",
            "_________________________________________________________________\n"
          ],
          "name": "stdout"
        }
      ]
    },
    {
      "cell_type": "markdown",
      "metadata": {
        "id": "_0lnUdLMQDnb",
        "colab_type": "text"
      },
      "source": [
        "Model.summary() tells us about the output shape of each layers and how many parameters are trained in total. This helps us understand how the data is flowing through our neural network. \n",
        "\n",
        "In the first layer, we take an input size of 28 x 28 and generate an output of 26 x 26. This is because our convolutional layer has a filter size of 3 x 3. So it takes 3 x 3 pixels from left to write and computes them one by one. After computing 28 x 28 layer with a 3 x 3 filter, an output of size 26 x 26 is generated. As we have used 64 filters, we have generated 64 outputs of size 26 x 26. \n",
        "\n",
        "In ther second layer, we perform max pooling which takes 2 x 2 pixels form the image and finds the maximum value. This reduces the output image size to 13 x 13\n",
        "\n",
        "After the second layer, we pass this data through the flatten layer which then allows this data to go through the dense layer and provide us with an output."
      ]
    },
    {
      "cell_type": "markdown",
      "metadata": {
        "id": "qydGctdycVf7",
        "colab_type": "text"
      },
      "source": [
        "### Exercise 2 : Sort the clothes\n"
      ]
    },
    {
      "cell_type": "markdown",
      "metadata": {
        "id": "P44oVOMkciVi",
        "colab_type": "text"
      },
      "source": [
        "Create a convolutional neural network to classify images of the Fashion MNIST dataset.\n",
        "\n",
        "[Fashion-MNIST](https://research.zalando.com/welcome/mission/research-projects/fashion-mnist/) is a dataset of Zalando's article images consisting of a training set of 60,000 examples and a test set of 10,000 examples.\n",
        "\n",
        "Each example is a 28x28 grayscale image, associated with a label from 10 classes."
      ]
    },
    {
      "cell_type": "code",
      "metadata": {
        "id": "q4KUrPQdI8OP",
        "colab_type": "code",
        "colab": {}
      },
      "source": [
        "from keras.datasets import fashion_mnist\n",
        "from tensorflow.keras.layers import (Input, Conv2D, MaxPooling2D, Flatten, Dense, Dropout)\n",
        "from tensorflow.keras.models import Sequential\n",
        "import numpy as np\n",
        "import matplotlib.pyplot as plt"
      ],
      "execution_count": null,
      "outputs": []
    },
    {
      "cell_type": "markdown",
      "metadata": {
        "colab_type": "text",
        "id": "2Mqor1RcVJVH"
      },
      "source": [
        "**Load dataset**"
      ]
    },
    {
      "cell_type": "code",
      "metadata": {
        "id": "v0dn3E2WeLpV",
        "colab_type": "code",
        "colab": {}
      },
      "source": [
        "#load data from fashion_mnist into sets for training and testing\n",
        "#YOUR CODE HERE\n",
        "\n",
        "#assign names to labels\n",
        "class_names={0:'top', 1:'trouser', 2:'pullover', 3:'dress', 4:'coat', 5:'sandal', 6:'shirt', 7:'sneaker', 8:'bag', 9:'boot'}\n",
        "\n",
        "#visualize data\n",
        "plt.figure(figsize=(10,10))\n",
        "for i in range(9):\n",
        "    plt.subplot(3,3,i+1)\n",
        "    plt.xticks([])\n",
        "    plt.yticks([])\n",
        "    plt.grid(False)\n",
        "    plt.imshow(train_images[i], cmap='binary')\n",
        "    plt.xlabel(class_names[train_labels[i]])\n",
        "plt.show()"
      ],
      "execution_count": null,
      "outputs": []
    },
    {
      "cell_type": "markdown",
      "metadata": {
        "id": "l5uUiyqWdWWQ",
        "colab_type": "text"
      },
      "source": [
        "**Pre-process data** "
      ]
    },
    {
      "cell_type": "code",
      "metadata": {
        "id": "IjzS9q3SI6vF",
        "colab_type": "code",
        "colab": {}
      },
      "source": [
        "#normalize the images\n",
        "#YOUR CODE HERE\n",
        "\n",
        "#reshape the images\n",
        "#YOUR CODE HERE"
      ],
      "execution_count": null,
      "outputs": []
    },
    {
      "cell_type": "markdown",
      "metadata": {
        "id": "FUik3_qFdl5M",
        "colab_type": "text"
      },
      "source": [
        "**Build model**"
      ]
    },
    {
      "cell_type": "code",
      "metadata": {
        "id": "xyJdgGvJI822",
        "colab_type": "code",
        "colab": {}
      },
      "source": [
        "model = #YOUR CODE HERE"
      ],
      "execution_count": null,
      "outputs": []
    },
    {
      "cell_type": "markdown",
      "metadata": {
        "id": "JTxkbNoadozr",
        "colab_type": "text"
      },
      "source": [
        "**Train model**"
      ]
    },
    {
      "cell_type": "code",
      "metadata": {
        "id": "qZX-ofwbI9Uj",
        "colab_type": "code",
        "colab": {}
      },
      "source": [
        "model.compile(optimizer = adam, loss= 'sparse_categorical_crossentropy', metrics = ['accuracy'])\n",
        "model.fit(\"\"\"YOUR CODE HERE\"\"\")"
      ],
      "execution_count": null,
      "outputs": []
    },
    {
      "cell_type": "markdown",
      "metadata": {
        "id": "15ZICl5qdsDw",
        "colab_type": "text"
      },
      "source": [
        "**Evaluate perfomance**"
      ]
    },
    {
      "cell_type": "code",
      "metadata": {
        "id": "koCOUiQ0I91Y",
        "colab_type": "code",
        "colab": {}
      },
      "source": [
        "loss, acc = #YOUR CODE HERE\n",
        "print(\"Training : loss={:.3f} - acc={:.3f}\".format(loss, acc))\n",
        "\n",
        "loss, acc = #YOUR CODE HERE\n",
        "print(\"Test : loss={:.3f} - acc={:.3f}\".format(loss, acc))"
      ],
      "execution_count": null,
      "outputs": []
    },
    {
      "cell_type": "markdown",
      "metadata": {
        "id": "RRR1-nQaeAmj",
        "colab_type": "text"
      },
      "source": [
        "**Improve model**"
      ]
    },
    {
      "cell_type": "markdown",
      "metadata": {
        "id": "V-MgNtL3jSpu",
        "colab_type": "text"
      },
      "source": [
        "If you observed over-fitting, improve your model by using regularization.\n",
        "\n",
        "NOTE ON DROPOUT REGULARIZATION\n",
        "\n",
        "Dropout randomly sets the output for a given neuron to 0. In setting the output to 0, the cost function becomes more sensitive to neighbouring neurons and this changes how weights will be updated during backpropagation.\n",
        "\n",
        "Dropout is implemented per-layer and may be implemented on any or all hidden layers in the network as well as the input layer. \n",
        "\n",
        "The hyperparameter specifies the probability at which outputs of the layer are dropped out/retained."
      ]
    },
    {
      "cell_type": "code",
      "metadata": {
        "id": "M2D71xlTI-fz",
        "colab_type": "code",
        "colab": {}
      },
      "source": [
        "model_improved = #YOUR CODE HERE "
      ],
      "execution_count": null,
      "outputs": []
    },
    {
      "cell_type": "markdown",
      "metadata": {
        "id": "PNE0VHJHecKx",
        "colab_type": "text"
      },
      "source": [
        "**Re-evaluate performance**"
      ]
    },
    {
      "cell_type": "code",
      "metadata": {
        "colab_type": "code",
        "id": "0C1eezF3LjzU",
        "colab": {}
      },
      "source": [
        "loss, acc = #YOUR CODE HERE\n",
        "print(\"Training : loss={:.3f} - acc={:.3f}\".format(loss, acc))\n",
        "\n",
        "loss, acc = #YOUR CODE HERE\n",
        "print(\"Test : loss={:.3f} - acc={:.3f}\".format(loss, acc))"
      ],
      "execution_count": null,
      "outputs": []
    },
    {
      "cell_type": "code",
      "metadata": {
        "id": "hP4Df0a1mIEi",
        "colab_type": "code",
        "colab": {}
      },
      "source": [
        "#get output probabilities and select class name\n",
        "predictions = #YOUR CODE HERE\n",
        "\n",
        "#visualize predictions \n",
        "plt.figure(figsize=(10,10))\n",
        "for i in range(9):\n",
        "    plt.subplot(3,3,i+1)\n",
        "    plt.xticks([])\n",
        "    plt.yticks([])\n",
        "    plt.grid(False)\n",
        "    plt.imshow(test_images[i], cmap='binary')\n",
        "    actual_class=class_names[test_labels[i]]\n",
        "    if predictions[i]==test_labels[i]:\n",
        "      plt.xlabel(actual_class, color='green')\n",
        "    else:\n",
        "      plt.xlabel(actual_class, color='red')\n",
        "plt.show()\n"
      ],
      "execution_count": null,
      "outputs": []
    },
    {
      "cell_type": "markdown",
      "metadata": {
        "colab_type": "text",
        "id": "OigKVi83pJRn"
      },
      "source": [
        "### Exercise 3 : Want to watch a movie this weekend?\n"
      ]
    },
    {
      "cell_type": "markdown",
      "metadata": {
        "id": "a4oINNwHp0XP",
        "colab_type": "text"
      },
      "source": [
        "Create a model to categorise movie reviews of the [IMDB dataset](https://ai.stanford.edu/~amaas/data/sentiment/).\n",
        "\n",
        "This is a dataset of highly-polarized movies reviews from IMDB labeled by binary sentiment (1 for positive and 0 for negative), consisting of 25000 training examples and 25000 testing examples.\n",
        "\n",
        "Reviews have been preprocessed, and each review is encoded as a list of word indices (integers). Words are indexed by overall frequency in the dataset, for instance the integer \"3\" encodes the 3rd most frequently occuring word. \n",
        "\n",
        "NOTE ON WORD INDICES\n",
        "\n",
        "The encoding is actually offset because of reserved indices 0, 1 and 2.\n"
      ]
    },
    {
      "cell_type": "markdown",
      "metadata": {
        "id": "8m1Nyiutx-vq",
        "colab_type": "text"
      },
      "source": [
        "**Load dataset**\n",
        "\n",
        "[Check the reference doc here](https://keras.io/api/datasets/imdb/)"
      ]
    },
    {
      "cell_type": "code",
      "metadata": {
        "id": "QwXaRZpm5SDJ",
        "colab_type": "code",
        "colab": {}
      },
      "source": [
        "from keras.datasets import imdb\n",
        "#load data, using 10000 for num_words parameter\n",
        "#YOUR CODE HERE\n",
        "\n",
        "#merge training examples and testing examples, so that we can change from 50/50 to 80/20 split distribution\n",
        "data = #YOUR CODE HERE\n",
        "targets = #YOUR CODE HERE"
      ],
      "execution_count": null,
      "outputs": []
    },
    {
      "cell_type": "code",
      "metadata": {
        "id": "75U07bu99OE7",
        "colab_type": "code",
        "colab": {}
      },
      "source": [
        "#try exploring the data at your own time"
      ],
      "execution_count": null,
      "outputs": []
    },
    {
      "cell_type": "markdown",
      "metadata": {
        "id": "G1hAmuG6x8hi",
        "colab_type": "text"
      },
      "source": [
        "**Pre-process data**"
      ]
    },
    {
      "cell_type": "markdown",
      "metadata": {
        "id": "4EWlZ32Bzk_q",
        "colab_type": "text"
      },
      "source": [
        "The whole dataset contains 9,998 unique words.\n",
        "\n",
        "You can’t feed lists of integers into a neural network, so we will vectorize every review into a 10,000-dimensional vector. \n",
        "\n",
        "For instance, the sequence [3, 5] will be turned into a 10,000-dimensional vector with all zeros except at indices 3 and 5, which would be ones.\n",
        "\n",
        "Now we can use as the first layer in your network a dense layer, capable of handling floating-point vector data.\n",
        "\n",
        "Don't forget to split data into 80/20 for training/testing!"
      ]
    },
    {
      "cell_type": "code",
      "metadata": {
        "id": "u5npPa5SsMoy",
        "colab_type": "code",
        "colab": {}
      },
      "source": [
        "#to visualize predictions later, keep a copy of non-vectorized test examples\n",
        "check_x = data[:10000]\n",
        "check_y = targets[:10000]\n",
        "\n",
        "def vectorize(sequences, dimension = 10000):\n",
        "  results = np.zeros((len(sequences), dimension))\n",
        "  for i, sequence in enumerate(sequences):\n",
        "    results[i, sequence] = 1\n",
        "  return results\n",
        "\n",
        "#vectorize reviews and labels\n",
        "data = #YOUR CODE HERE \n",
        "targets = np.array(targets).astype(\"float32\")\n",
        "\n",
        "#first 10K reviews for testing\n",
        "#YOUR CODE HERE\n",
        "\n",
        "#last 40K reviews for training\n",
        "#YOUR CODE HERE "
      ],
      "execution_count": null,
      "outputs": []
    },
    {
      "cell_type": "markdown",
      "metadata": {
        "id": "zrz6DuJZv25a",
        "colab_type": "text"
      },
      "source": [
        "**Build model**\n"
      ]
    },
    {
      "cell_type": "code",
      "metadata": {
        "id": "pG90TTTY_Kyp",
        "colab_type": "code",
        "colab": {}
      },
      "source": [
        "model = #YOUR CODE HERE"
      ],
      "execution_count": null,
      "outputs": []
    },
    {
      "cell_type": "markdown",
      "metadata": {
        "id": "EkPQmpzkv3K9",
        "colab_type": "text"
      },
      "source": [
        "**Train model and evaluate performance**"
      ]
    },
    {
      "cell_type": "code",
      "metadata": {
        "id": "QEuoNn0r_ODk",
        "colab_type": "code",
        "colab": {}
      },
      "source": [
        "model.compile(optimizer = \"adam\", loss = \"binary_crossentropy\", metrics = [\"accuracy\"])\n",
        "\n",
        "results = model.fit('''YOUR CODE HERE''', validation_data = ('''YOUR CODE HERE'''))\n",
        "\n",
        "print(\"Test-Accuracy:\", np.mean(results.history[\"accuracy\"]))"
      ],
      "execution_count": null,
      "outputs": []
    },
    {
      "cell_type": "code",
      "metadata": {
        "id": "x1Z0PM40_RxS",
        "colab_type": "code",
        "colab": {}
      },
      "source": [
        "#the get_word_index function retrieves a dictionary mapping words to their index in the dataset\n",
        "index = imdb.get_word_index()     \n",
        "reverse_index = dict([(value, key) for (key, value) in index.items()]) \n",
        "\n",
        "#to read the review\n",
        "#note that indices were offset by 3, because 0, 1 and 2 are reserved indices for \"padding\", \"start of sequence\", and \"unknown\"\n",
        "decoded = \" \".join( [reverse_index.get(i - 3, \"#\") for i in check_x[0]] )\n",
        "print(decoded)"
      ],
      "execution_count": null,
      "outputs": []
    },
    {
      "cell_type": "markdown",
      "metadata": {
        "id": "o02XVVg__Ujj",
        "colab_type": "text"
      },
      "source": [
        "**Predict**"
      ]
    },
    {
      "cell_type": "code",
      "metadata": {
        "id": "sfU17njv_jP-",
        "colab_type": "code",
        "colab": {}
      },
      "source": [
        "#binary classification\n",
        "sentiment = {1: 'positive', 0:'negative'}\n",
        "\n",
        "#get output probabilities \n",
        "predictions = #YOUR CODE HERE\n",
        "\n",
        "predictions = np.round(predictions).astype('int64')\n",
        "print(\"predicted: \", sentiment[predictions[0][0]])\n",
        "print(\"actual: \", sentiment[check_y[0]])"
      ],
      "execution_count": null,
      "outputs": []
    },
    {
      "cell_type": "markdown",
      "metadata": {
        "id": "bO-mDkJbG5xM",
        "colab_type": "text"
      },
      "source": [
        "# Jupyter Notebook option for Tensorflow"
      ]
    },
    {
      "cell_type": "code",
      "metadata": {
        "id": "xWEqA3iYG40J",
        "colab_type": "code",
        "colab": {}
      },
      "source": [
        "pip install tensorflow \n",
        "# locally installs tensorflow"
      ],
      "execution_count": null,
      "outputs": []
    },
    {
      "cell_type": "markdown",
      "metadata": {
        "id": "8orKGEMIGcJB",
        "colab_type": "text"
      },
      "source": [
        "# Biblography\n",
        "\n",
        "\n",
        "*   TensorFlow Official Website - https://www.tensorflow.org/\n",
        "*   Introduction to Tensorflow for AI, ML and DL by Deeplearning.ai - https://www.coursera.org/learn/introduction-tensorflow\n",
        "*   What is Tensorflow? by Python Programmer - https://www.youtube.com/watch?v=UbMDK4UNtPA&t=38s\n",
        "* A Gentle Introduction to Dropout for Regularizing Deep Neural Networks by Jason Brownlee - https://machinelearningmastery.com/dropout-for-regularizing-deep-neural-networks/\n",
        "\n",
        "\n",
        "## Keras Documentation\n",
        "* Built-in datasets - https://keras.io/api/datasets/\n",
        "* Models - https://keras.io/api/models/model/ and https://keras.io/api/models/sequential/#sequential-class\n",
        "* Layers - https://keras.io/api/layers/\n",
        "\n"
      ]
    },
    {
      "cell_type": "code",
      "metadata": {
        "id": "Z-krfN_6ScVP",
        "colab_type": "code",
        "colab": {}
      },
      "source": [
        ""
      ],
      "execution_count": null,
      "outputs": []
    }
  ]
}